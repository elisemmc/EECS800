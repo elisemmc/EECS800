{
 "cells": [
  {
   "cell_type": "code",
   "execution_count": 24,
   "metadata": {
    "collapsed": true
   },
   "outputs": [],
   "source": [
    "import numpy as np\n",
    "import pandas as pd\n",
    "import scipy.optimize as opt\n",
    "from __future__ import division"
   ]
  },
  {
   "cell_type": "markdown",
   "metadata": {},
   "source": [
    "Load the LogisticData.csv for this assignment and check if it has loaded successfully. In this excercise, we will use the same dataset for training and testing. After training the model on the best beta, we will see how well does our model perform."
   ]
  },
  {
   "cell_type": "code",
   "execution_count": null,
   "metadata": {
    "collapsed": false
   },
   "outputs": [],
   "source": [
    "df = #define"
   ]
  },
  {
   "cell_type": "markdown",
   "metadata": {},
   "source": [
    "Next, preprocess the data. X should contain only the predictors, Y shuould be the reponse variable and beta should be a vector with length = the number of features and value = 0."
   ]
  },
  {
   "cell_type": "code",
   "execution_count": 126,
   "metadata": {
    "collapsed": false
   },
   "outputs": [],
   "source": [
    "X =   \n",
    "Y = \n",
    "groundTruth = df['Y']\n",
    "#Normalize only if you are using gradient descent. Use standard deviation for normalization.\n",
    "\n",
    "X = np.matrix(X.values)  \n",
    "Y = np.matrix(Y.values)\n",
    "beta = "
   ]
  },
  {
   "cell_type": "markdown",
   "metadata": {},
   "source": [
    "Define a sigmoid function and return the value tht has been calculated for z"
   ]
  },
  {
   "cell_type": "code",
   "execution_count": 136,
   "metadata": {
    "collapsed": true
   },
   "outputs": [],
   "source": [
    "def sigmoid(z):\n",
    "    '''\n",
    "    Here sigmoid value of 'z' needs to be returned.\n",
    "    '''\n",
    "    return sig"
   ]
  },
  {
   "cell_type": "markdown",
   "metadata": {},
   "source": [
    "Define the cost function for Logistic Regression. Remember to calculate the sigmoid values as well."
   ]
  },
  {
   "cell_type": "code",
   "execution_count": 137,
   "metadata": {
    "collapsed": true
   },
   "outputs": [],
   "source": [
    "def costFunction(beta, X, Y):\n",
    "    '''\n",
    "    This function returns the value computed from the cost function.\n",
    "    '''\n",
    "    return result"
   ]
  },
  {
   "cell_type": "markdown",
   "metadata": {},
   "source": [
    "Define a gradient function that takes in beta, X and Y as parameters and returns the best betas and cost. "
   ]
  },
  {
   "cell_type": "code",
   "execution_count": 140,
   "metadata": {
    "collapsed": true
   },
   "outputs": [],
   "source": [
    "def gradientDescent(X, Y, beta, alpha, iters):\n",
    "    '''\n",
    "    Compute the gradient descent function.\n",
    "    Return the newly computed beta and the cost array.\n",
    "    '''\n",
    "\n",
    "    return beta, cost"
   ]
  },
  {
   "cell_type": "markdown",
   "metadata": {},
   "source": [
    "Try out multiple values of 'alpha' and 'iters' so that you get the optimum result."
   ]
  },
  {
   "cell_type": "code",
   "execution_count": 132,
   "metadata": {
    "collapsed": true
   },
   "outputs": [],
   "source": [
    "#please try different values to see the results, but alpha=0.01 and iters=10000 are suggested.\n",
    "alpha = #define\n",
    "iters = #define\n",
    "result = gradientDescent(X, Y, beta, alpha, iters)"
   ]
  },
  {
   "cell_type": "markdown",
   "metadata": {},
   "source": [
    "Now , only define the gradient function that we can use in the SciPy's optimize module to find the optimal betas. "
   ]
  },
  {
   "cell_type": "code",
   "execution_count": 76,
   "metadata": {
    "collapsed": true
   },
   "outputs": [],
   "source": [
    "def gradient(beta, X, Y):\n",
    "    '''\n",
    "    This function returns the gradient calucated.\n",
    "    '''\n",
    "    #for i in range(parameters):\n",
    "    #####\n",
    "    #grad[i] =\n",
    "    return grad"
   ]
  },
  {
   "cell_type": "markdown",
   "metadata": {},
   "source": [
    "Optimize the parameters given functions to compute the cost and the gradients. We can use SciPy's optimization to do the same thing.\n",
    "Define a variable result and complete the functions by adding the right parameters."
   ]
  },
  {
   "cell_type": "code",
   "execution_count": 77,
   "metadata": {
    "collapsed": false
   },
   "outputs": [],
   "source": [
    "#the optimised betas are stored in the first index of the result variable\n",
    "result = opt.fmin_tnc(func= , x0= , fprime = , args= )"
   ]
  },
  {
   "cell_type": "markdown",
   "metadata": {},
   "source": [
    "Define a predict function that returns 1 if the probablity of the result from the sigmoid function is greater than 0.5, using the best betas and 0 otherwise."
   ]
  },
  {
   "cell_type": "code",
   "execution_count": 34,
   "metadata": {
    "collapsed": true
   },
   "outputs": [],
   "source": [
    "def predict(beta, X): \n",
    "    '''\n",
    "    This function returns a list of predictions calculated from the sigmoid using the best beta.\n",
    "    '''\n",
    "    return #define"
   ]
  },
  {
   "cell_type": "markdown",
   "metadata": {},
   "source": [
    "Store the prediction in a list after calling the predict function with best betas and X."
   ]
  },
  {
   "cell_type": "code",
   "execution_count": 133,
   "metadata": {
    "collapsed": false
   },
   "outputs": [],
   "source": [
    "bestBeta = np.matrix(result[0])  \n",
    "predictions = predict(bestBeta, X)"
   ]
  },
  {
   "cell_type": "markdown",
   "metadata": {},
   "source": [
    "Calculate the accuracy of your model. The function should take the prediction and groundTruth as inputs and return the \n",
    "confusion matrix. The confusion matrix is of 'dataframe' type."
   ]
  },
  {
   "cell_type": "code",
   "execution_count": 139,
   "metadata": {
    "collapsed": false
   },
   "outputs": [],
   "source": [
    "def confusionMatrix(prediction, groundTruth):\n",
    "    '''\n",
    "    Return the computed confusion matrix.\n",
    "    '''\n",
    "    return pd.crosstab(groundTruth, prediction, rownames=['True'], colnames=['Predicted'], margins=False)"
   ]
  },
  {
   "cell_type": "markdown",
   "metadata": {},
   "source": [
    "Call the confusionMatrix function and print the confusion matrix as well as the accuracy of the model."
   ]
  },
  {
   "cell_type": "code",
   "execution_count": null,
   "metadata": {
    "collapsed": false
   },
   "outputs": [],
   "source": [
    "#The final outputs that we need for this portion of the lab are conf and acc. Copy conf and acc in a .txt file.\n",
    "#Please write a SHORT report and explain these results. Include the explanations for both logistic and linear regression\n",
    "#in the same PDF file. \n",
    "\n",
    "groundTruth = pd.Series(groundTruth)\n",
    "prediction = pd.Series(predictions)\n",
    "conf = #define\n",
    "acc = #define\n",
    "print 'Accuracy = '+str(acc)+'%'"
   ]
  }
 ],
 "metadata": {
  "kernelspec": {
   "display_name": "Python 2",
   "language": "python",
   "name": "python2"
  },
  "language_info": {
   "codemirror_mode": {
    "name": "ipython",
    "version": 2
   },
   "file_extension": ".py",
   "mimetype": "text/x-python",
   "name": "python",
   "nbconvert_exporter": "python",
   "pygments_lexer": "ipython2",
   "version": "2.7.13"
  }
 },
 "nbformat": 4,
 "nbformat_minor": 1
}
