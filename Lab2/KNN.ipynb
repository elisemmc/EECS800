{
 "cells": [
  {
   "cell_type": "code",
   "execution_count": 2,
   "metadata": {
    "collapsed": true
   },
   "outputs": [],
   "source": [
    "from sklearn import datasets\n",
    "import pandas as pd\n",
    "import numpy as np\n",
    "from math import sqrt\n",
    "import operator\n",
    "\n",
    "#Please complete the following KNN code based on the given instructions\n"
   ]
  },
  {
   "cell_type": "markdown",
   "metadata": {},
   "source": [
    "Load the training and testing data from the provided files into pandas dataframes."
   ]
  },
  {
   "cell_type": "code",
   "execution_count": null,
   "metadata": {
    "collapsed": false
   },
   "outputs": [],
   "source": [
    "\n",
    "#Please handle the data with 'dataframe' type, remember to print/display the test and training datasets\n",
    "train = #define\n",
    "test = #define"
   ]
  },
  {
   "cell_type": "markdown",
   "metadata": {},
   "source": [
    "1. Define k as the number of unique elements in the target column.\n",
    "2. Define a prediction list.\n",
    "3. Define a groundTruth list that saves the target values from the test dataset."
   ]
  },
  {
   "cell_type": "code",
   "execution_count": 5,
   "metadata": {
    "collapsed": false
   },
   "outputs": [],
   "source": [
    "k = #define\n",
    "prediction = []\n",
    "groundTruth = test['Target']"
   ]
  },
  {
   "cell_type": "markdown",
   "metadata": {},
   "source": [
    "Now define a eucledian distance function that returns the distance between two instances."
   ]
  },
  {
   "cell_type": "code",
   "execution_count": 4,
   "metadata": {
    "collapsed": true
   },
   "outputs": [],
   "source": [
    "def eucledianDistance(instance_1, instance_2):\n",
    "    '''\n",
    "    This function takes in 2 instances and returns the Eucledian Distance between them.\n",
    "    '''\n",
    "    return eucDistance"
   ]
  },
  {
   "cell_type": "markdown",
   "metadata": {},
   "source": [
    "Now that we have the eucledian distance, we can use it collect the k most similar instances for a given unseen instance.<br/>\n",
    "This is a straight forward process of calculating the distance for all instances and selecting a subset with the smallest distance values.<br/>\n",
    "Define the classDistance function that will return the k most similar neighbors from a training dataset for an instance(using the already defined euclideanDistance function).<br/>\n",
    "The function should return a list that has k instances of class variable and eucledian distance,like this for k=3:<br/>\n",
    "(1,0.32)<br/>\n",
    "(0,0.35)<br/>\n",
    "(0,0.37)<br/>"
   ]
  },
  {
   "cell_type": "code",
   "execution_count": 5,
   "metadata": {
    "collapsed": true
   },
   "outputs": [],
   "source": [
    "def classDistance(df_train, instance_test, k):\n",
    "    '''\n",
    "    This function takes in training dataset, a test instance and k.\n",
    "    It should return the top k values for the least Eucledian distances for each instance along with class variable.\n",
    "    '''\n",
    "    return classDist[:k]"
   ]
  },
  {
   "cell_type": "markdown",
   "metadata": {},
   "source": [
    "Now that we have k least distances, we can make the prediction for the test instance. We can do this by allowing each neighbor to vote for their class attribute, and take the majority vote as the prediction."
   ]
  },
  {
   "cell_type": "code",
   "execution_count": 6,
   "metadata": {
    "collapsed": true
   },
   "outputs": [],
   "source": [
    "def voting(classDist):\n",
    "    '''\n",
    "    This function takes in the result from the classDistance function and returns the label after voting.\n",
    "    '''\n",
    "    print votes\n",
    "    return votes['''?''']['''?''']"
   ]
  },
  {
   "cell_type": "markdown",
   "metadata": {},
   "source": [
    "Calculate the accuracy of your model. The function should take the prediction and groundTruth as inputs and return the \n",
    "confusion matrix. The confusion matrix is of 'dataframe' type."
   ]
  },
  {
   "cell_type": "code",
   "execution_count": 7,
   "metadata": {
    "collapsed": true
   },
   "outputs": [],
   "source": [
    "def confusionMatrix(prediction, groundTruth):\n",
    "    '''\n",
    "    This function returns and print the confusion matrix which is of type 'dataframe'.\n",
    "    '''\n",
    "    return confMatrix"
   ]
  },
  {
   "cell_type": "markdown",
   "metadata": {},
   "source": [
    "Now, test your model based on the test dataset. Add your prediction to the 'prediction' list."
   ]
  },
  {
   "cell_type": "code",
   "execution_count": 9,
   "metadata": {
    "collapsed": false
   },
   "outputs": [],
   "source": [
    "for x in range(len(test)):\n",
    "    cd = classDistance(train,test.iloc[x], k)\n",
    "    prediction.append(voting(cd))"
   ]
  },
  {
   "cell_type": "markdown",
   "metadata": {},
   "source": [
    "Call the confusionMatrix function and print the confusion matrix as well as the accuracy of the model."
   ]
  },
  {
   "cell_type": "code",
   "execution_count": null,
   "metadata": {
    "collapsed": false
   },
   "outputs": [],
   "source": [
    "groundTruth = pd.Series(groundTruth)\n",
    "prediction = pd.Series(prediction)\n",
    "conf = confusionMatrix(groundTruth, prediction)\n",
    "print conf\n",
    "accuracy = #define accuracy\n",
    "print 'Accuracy = '+str(accuracy)+'%'"
   ]
  },
  {
   "cell_type": "code",
   "execution_count": 24,
   "metadata": {
    "collapsed": true
   },
   "outputs": [],
   "source": []
  }
 ],
 "metadata": {
  "kernelspec": {
   "display_name": "Python 2",
   "language": "python",
   "name": "python2"
  },
  "language_info": {
   "codemirror_mode": {
    "name": "ipython",
    "version": 2
   },
   "file_extension": ".py",
   "mimetype": "text/x-python",
   "name": "python",
   "nbconvert_exporter": "python",
   "pygments_lexer": "ipython2",
   "version": "2.7.13"
  }
 },
 "nbformat": 4,
 "nbformat_minor": 1
}
