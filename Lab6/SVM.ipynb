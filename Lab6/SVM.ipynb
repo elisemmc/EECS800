{
 "cells": [
  {
   "cell_type": "code",
   "execution_count": 9,
   "metadata": {
    "collapsed": true
   },
   "outputs": [],
   "source": [
    "import numpy as np"
   ]
  },
  {
   "cell_type": "markdown",
   "metadata": {},
   "source": [
    "You have 3 tasks to do:\n",
    "First, with the help of the weight vector, implement the *Support* function which will provide us with the indeces of support vectors.\n",
    "Second, with the help of the weight vector,  implement the  *Slack* function which will return all vectors' indeces with non-zero slack.\n",
    "Third, given the Lagrange multiplier, implement the *weightVector* function for returning the corresponding weight vector. \n",
    "You have to submit your code and a *short* report, .pdf, explaning your results which are the requested indeces as well as the general flow of the functions.\n",
    "\n",
    "\n",
    "\n",
    "For given vectors x, y, and alpha, we would want to compute the primal weight vector."
   ]
  },
  {
   "cell_type": "code",
   "execution_count": 10,
   "metadata": {
    "collapsed": true
   },
   "outputs": [],
   "source": [
    "def weightVector(x, y, LagrangeMultiplier):\n",
    "    '''\n",
    "    This method should return the primal weight vector.\n",
    "    '''\n",
    "    return w"
   ]
  },
  {
   "cell_type": "markdown",
   "metadata": {},
   "source": [
    "For a given weight vector we want to now implement the find support function. This function returns the indices of the support vectors. The tolerance is 0.0015"
   ]
  },
  {
   "cell_type": "code",
   "execution_count": 11,
   "metadata": {
    "collapsed": true
   },
   "outputs": [],
   "source": [
    "def Support(x, y, w, b, tol=0.0015):\n",
    "    '''\n",
    "    This method should return the indices for all of the support vectors.\n",
    "    '''\n",
    "    \n",
    "    support = set()\n",
    "    \n",
    "    return support"
   ]
  },
  {
   "cell_type": "markdown",
   "metadata": {},
   "source": [
    " The Slack function which will provide us with the indices of the slack vectors."
   ]
  },
  {
   "cell_type": "code",
   "execution_count": 12,
   "metadata": {
    "collapsed": true
   },
   "outputs": [],
   "source": [
    "def Slack(x, y, w, b):\n",
    "    '''\n",
    "    This function should return the indices for all of the slack vectors, given a primal support vector instance.\n",
    "    '''\n",
    "    slack = set()\n",
    "\n",
    "    return slack"
   ]
  },
  {
   "cell_type": "code",
   "execution_count": 13,
   "metadata": {
    "collapsed": false
   },
   "outputs": [],
   "source": [
    "Inseparable = np.array([(2, 10, +1),\n",
    "               (8, 2, -1),\n",
    "               (5, -1, -1),\n",
    "               (-5, 0, +1),\n",
    "               (-5, 1, -1),\n",
    "               (-5, 2, +1),\n",
    "               (6, 3, +1),\n",
    "               (7, 1, -1),\n",
    "               (5, 2, -1)])\n",
    "\n",
    "Separable = np.array([(-2, 2, +1),    \n",
    "              (0, 8, +1),     \n",
    "              (2, 1, +1),     \n",
    "              (-2, -3, -1),   \n",
    "              (0, -1, -1),    \n",
    "              (2, -3, -1),    \n",
    "              ])"
   ]
  },
  {
   "cell_type": "code",
   "execution_count": 14,
   "metadata": {
    "collapsed": true
   },
   "outputs": [],
   "source": [
    "#you don't have to add anything to the code from here on except printing the requested indeces\n",
    "x1 = Separable[:, 0:2]\n",
    "y1 = Separable[:, 2]\n",
    "x2 = Inseparable [:, 0:2]\n",
    "y2 = Inseparable [:, 2]"
   ]
  },
  {
   "cell_type": "markdown",
   "metadata": {},
   "source": [
    "Given the values of alphas, call the weightVector and store the result in 'w'."
   ]
  },
  {
   "cell_type": "code",
   "execution_count": 15,
   "metadata": {
    "collapsed": true
   },
   "outputs": [],
   "source": [
    "LagrangeMultiplier = np.zeros(len(x1))\n",
    "LagrangeMultiplier[4] = 0.34\n",
    "LagrangeMultiplier[0] = 0.12\n",
    "LagrangeMultiplier[2] = 0.22"
   ]
  },
  {
   "cell_type": "code",
   "execution_count": null,
   "metadata": {
    "collapsed": true
   },
   "outputs": [],
   "source": [
    "w = weightVector(x1, y1, LagrangeMultiplier)"
   ]
  },
  {
   "cell_type": "code",
   "execution_count": null,
   "metadata": {
    "collapsed": true
   },
   "outputs": [],
   "source": [
    "#Given b, find the support set.\n",
    "b = -0.2\n",
    "s = Support(x1, y1, w, b)\n",
    "#please print the support set"
   ]
  },
  {
   "cell_type": "markdown",
   "metadata": {},
   "source": [
    "Given the following values, compute the slack indeces."
   ]
  },
  {
   "cell_type": "code",
   "execution_count": null,
   "metadata": {
    "collapsed": true
   },
   "outputs": [],
   "source": [
    "w2 = [-.25, .25]\n",
    "b2 = -.25\n",
    "sl = Slack(x2, y2, w2, b2)\n",
    "#please print s1"
   ]
  }
 ],
 "metadata": {
  "kernelspec": {
   "display_name": "Python 2",
   "language": "python",
   "name": "python2"
  },
  "language_info": {
   "codemirror_mode": {
    "name": "ipython",
    "version": 2
   },
   "file_extension": ".py",
   "mimetype": "text/x-python",
   "name": "python",
   "nbconvert_exporter": "python",
   "pygments_lexer": "ipython2",
   "version": "2.7.13"
  }
 },
 "nbformat": 4,
 "nbformat_minor": 1
}
